{
 "cells": [
  {
   "cell_type": "markdown",
   "metadata": {},
   "source": [
    "# Final Project - Part 4 - Model Draft 1 (Demo vs Exploit Geo) - 0.87-0.88"
   ]
  },
  {
   "cell_type": "markdown",
   "metadata": {},
   "source": [
    "## 1) Multinomial Logistic Regression (Input: Demographics; Output: Exploitation Geo Category)\n",
    "\n",
    "import pandas as pd\n",
    "import numpy as np\n",
    "from sklearn.linear_model import LogisticRegression, RidgeClassifierCV\n",
    "from sklearn.ensemble import RandomForestClassifier, GradientBoostingClassifier, ExtraTreesClassifier, VotingClassifier, AdaBoostClassifier\n",
    "from sklearn.tree import DecisionTreeClassifier\n",
    "from sklearn.naive_bayes import GaussianNB\n",
    "from sklearn.cross_validation import cross_val_score,train_test_split\n",
    "from sklearn.preprocessing import Imputer\n",
    "from sklearn import preprocessing\n",
    "from sklearn.base import BaseEstimator\n",
    "from sklearn import metrics\n",
    "from sklearn.model_selection import StratifiedKFold\n",
    "import random\n",
    "import matplotlib as plt\n",
    "import pdb"
   ]
  },
  {
   "cell_type": "code",
   "execution_count": 3,
   "metadata": {},
   "outputs": [
    {
     "name": "stderr",
     "output_type": "stream",
     "text": [
      "C:\\Users\\ellei\\Anaconda2\\lib\\site-packages\\sklearn\\cross_validation.py:41: DeprecationWarning: This module was deprecated in version 0.18 in favor of the model_selection module into which all the refactored classes and functions are moved. Also note that the interface of the new CV iterators are different from that of this module. This module will be removed in 0.20.\n",
      "  \"This module will be removed in 0.20.\", DeprecationWarning)\n"
     ]
    }
   ],
   "source": [
    "import pandas as pd\n",
    "import numpy as np\n",
    "from sklearn.linear_model import LogisticRegression, RidgeClassifierCV\n",
    "from sklearn.ensemble import RandomForestClassifier, GradientBoostingClassifier, ExtraTreesClassifier, VotingClassifier, AdaBoostClassifier\n",
    "from sklearn.tree import DecisionTreeClassifier\n",
    "from sklearn.naive_bayes import GaussianNB\n",
    "from sklearn.cross_validation import cross_val_score,train_test_split\n",
    "from sklearn.preprocessing import Imputer\n",
    "from sklearn import preprocessing\n",
    "from sklearn.base import BaseEstimator\n",
    "from sklearn import metrics\n",
    "from sklearn.model_selection import StratifiedKFold\n",
    "import random\n",
    "import matplotlib as plt\n",
    "import pdb"
   ]
  },
  {
   "cell_type": "code",
   "execution_count": 4,
   "metadata": {},
   "outputs": [
    {
     "data": {
      "text/html": [
       "<div>\n",
       "<style>\n",
       "    .dataframe thead tr:only-child th {\n",
       "        text-align: right;\n",
       "    }\n",
       "\n",
       "    .dataframe thead th {\n",
       "        text-align: left;\n",
       "    }\n",
       "\n",
       "    .dataframe tbody tr th {\n",
       "        vertical-align: top;\n",
       "    }\n",
       "</style>\n",
       "<table border=\"1\" class=\"dataframe\">\n",
       "  <thead>\n",
       "    <tr style=\"text-align: right;\">\n",
       "      <th></th>\n",
       "      <th>yearOfRegistration</th>\n",
       "      <th>gender</th>\n",
       "      <th>majorityStatus</th>\n",
       "      <th>ageBroad_mid</th>\n",
       "      <th>citizenshipRegion</th>\n",
       "      <th>citizenshipGeoCategory</th>\n",
       "      <th>exploitationRegion</th>\n",
       "      <th>exploitationGeoCategory</th>\n",
       "      <th>mocDebtBondage</th>\n",
       "      <th>mocTakesEarnings</th>\n",
       "      <th>...</th>\n",
       "      <th>tosProstitution</th>\n",
       "      <th>tosPornography</th>\n",
       "      <th>tosRemoteInteractiveServices</th>\n",
       "      <th>tosPrivateSexualServices</th>\n",
       "      <th>tosNotSpecified</th>\n",
       "      <th>rrIntimatePartner</th>\n",
       "      <th>rrFriend</th>\n",
       "      <th>rrFamily</th>\n",
       "      <th>rrOther</th>\n",
       "      <th>rrUnknown</th>\n",
       "    </tr>\n",
       "  </thead>\n",
       "  <tbody>\n",
       "    <tr>\n",
       "      <th>0</th>\n",
       "      <td>2010</td>\n",
       "      <td>Female</td>\n",
       "      <td>Adult</td>\n",
       "      <td>19.0</td>\n",
       "      <td>Central_Asia</td>\n",
       "      <td>Asia</td>\n",
       "      <td>Central_Asia</td>\n",
       "      <td>Asia</td>\n",
       "      <td>0</td>\n",
       "      <td>0</td>\n",
       "      <td>...</td>\n",
       "      <td>0</td>\n",
       "      <td>0</td>\n",
       "      <td>0</td>\n",
       "      <td>0</td>\n",
       "      <td>1</td>\n",
       "      <td>0</td>\n",
       "      <td>0</td>\n",
       "      <td>0</td>\n",
       "      <td>0</td>\n",
       "      <td>1</td>\n",
       "    </tr>\n",
       "    <tr>\n",
       "      <th>1</th>\n",
       "      <td>2004</td>\n",
       "      <td>Female</td>\n",
       "      <td>Adult</td>\n",
       "      <td>19.0</td>\n",
       "      <td>Eastern_Europe</td>\n",
       "      <td>Europe</td>\n",
       "      <td>Eastern_Europe</td>\n",
       "      <td>Europe</td>\n",
       "      <td>0</td>\n",
       "      <td>0</td>\n",
       "      <td>...</td>\n",
       "      <td>0</td>\n",
       "      <td>0</td>\n",
       "      <td>0</td>\n",
       "      <td>0</td>\n",
       "      <td>1</td>\n",
       "      <td>0</td>\n",
       "      <td>0</td>\n",
       "      <td>0</td>\n",
       "      <td>0</td>\n",
       "      <td>1</td>\n",
       "    </tr>\n",
       "    <tr>\n",
       "      <th>2</th>\n",
       "      <td>2010</td>\n",
       "      <td>Female</td>\n",
       "      <td>Adult</td>\n",
       "      <td>19.0</td>\n",
       "      <td>Central_Asia</td>\n",
       "      <td>Asia</td>\n",
       "      <td>Central_Asia</td>\n",
       "      <td>Asia</td>\n",
       "      <td>1</td>\n",
       "      <td>0</td>\n",
       "      <td>...</td>\n",
       "      <td>0</td>\n",
       "      <td>0</td>\n",
       "      <td>0</td>\n",
       "      <td>0</td>\n",
       "      <td>1</td>\n",
       "      <td>0</td>\n",
       "      <td>0</td>\n",
       "      <td>0</td>\n",
       "      <td>0</td>\n",
       "      <td>1</td>\n",
       "    </tr>\n",
       "    <tr>\n",
       "      <th>3</th>\n",
       "      <td>2010</td>\n",
       "      <td>Female</td>\n",
       "      <td>Adult</td>\n",
       "      <td>19.0</td>\n",
       "      <td>Central_Asia</td>\n",
       "      <td>Asia</td>\n",
       "      <td>Central_Asia</td>\n",
       "      <td>Asia</td>\n",
       "      <td>1</td>\n",
       "      <td>0</td>\n",
       "      <td>...</td>\n",
       "      <td>0</td>\n",
       "      <td>0</td>\n",
       "      <td>0</td>\n",
       "      <td>0</td>\n",
       "      <td>1</td>\n",
       "      <td>0</td>\n",
       "      <td>0</td>\n",
       "      <td>0</td>\n",
       "      <td>0</td>\n",
       "      <td>1</td>\n",
       "    </tr>\n",
       "    <tr>\n",
       "      <th>4</th>\n",
       "      <td>2012</td>\n",
       "      <td>Female</td>\n",
       "      <td>Minor</td>\n",
       "      <td>13.0</td>\n",
       "      <td>North_America</td>\n",
       "      <td>North_America</td>\n",
       "      <td>North_America</td>\n",
       "      <td>North_America</td>\n",
       "      <td>0</td>\n",
       "      <td>0</td>\n",
       "      <td>...</td>\n",
       "      <td>0</td>\n",
       "      <td>0</td>\n",
       "      <td>0</td>\n",
       "      <td>0</td>\n",
       "      <td>0</td>\n",
       "      <td>0</td>\n",
       "      <td>0</td>\n",
       "      <td>1</td>\n",
       "      <td>0</td>\n",
       "      <td>0</td>\n",
       "    </tr>\n",
       "  </tbody>\n",
       "</table>\n",
       "<p>5 rows × 56 columns</p>\n",
       "</div>"
      ],
      "text/plain": [
       "   yearOfRegistration  gender majorityStatus  ageBroad_mid citizenshipRegion  \\\n",
       "0                2010  Female          Adult          19.0      Central_Asia   \n",
       "1                2004  Female          Adult          19.0    Eastern_Europe   \n",
       "2                2010  Female          Adult          19.0      Central_Asia   \n",
       "3                2010  Female          Adult          19.0      Central_Asia   \n",
       "4                2012  Female          Minor          13.0     North_America   \n",
       "\n",
       "  citizenshipGeoCategory exploitationRegion exploitationGeoCategory  \\\n",
       "0                   Asia       Central_Asia                    Asia   \n",
       "1                 Europe     Eastern_Europe                  Europe   \n",
       "2                   Asia       Central_Asia                    Asia   \n",
       "3                   Asia       Central_Asia                    Asia   \n",
       "4          North_America      North_America           North_America   \n",
       "\n",
       "   mocDebtBondage  mocTakesEarnings    ...      tosProstitution  \\\n",
       "0               0                 0    ...                    0   \n",
       "1               0                 0    ...                    0   \n",
       "2               1                 0    ...                    0   \n",
       "3               1                 0    ...                    0   \n",
       "4               0                 0    ...                    0   \n",
       "\n",
       "   tosPornography  tosRemoteInteractiveServices  tosPrivateSexualServices  \\\n",
       "0               0                             0                         0   \n",
       "1               0                             0                         0   \n",
       "2               0                             0                         0   \n",
       "3               0                             0                         0   \n",
       "4               0                             0                         0   \n",
       "\n",
       "   tosNotSpecified  rrIntimatePartner  rrFriend  rrFamily  rrOther  rrUnknown  \n",
       "0                1                  0         0         0        0          1  \n",
       "1                1                  0         0         0        0          1  \n",
       "2                1                  0         0         0        0          1  \n",
       "3                1                  0         0         0        0          1  \n",
       "4                0                  0         0         1        0          0  \n",
       "\n",
       "[5 rows x 56 columns]"
      ]
     },
     "execution_count": 4,
     "metadata": {},
     "output_type": "execute_result"
    }
   ],
   "source": [
    "#Read Cleaned Global Data\n",
    "GD_data_final = pd.read_csv('assets/GD_data_final.csv')\n",
    "GD_data_final.head()"
   ]
  },
  {
   "cell_type": "code",
   "execution_count": 5,
   "metadata": {},
   "outputs": [
    {
     "data": {
      "text/plain": [
       "Index([u'yearOfRegistration', u'ageBroad_mid', u'g_Female', u'g_Male',\n",
       "       u'ms_Adult', u'cr_Central_Asia', u'cr_East_Africa', u'cr_East_Asia',\n",
       "       u'cr_Eastern_Europe', u'cr_Middle_East', u'cr_North_America',\n",
       "       u'cr_Northeast_Africa', u'cr_South_America', u'cr_South_Asia',\n",
       "       u'cr_Southeast_Asia', u'cr_Southeastern_Europe', u'cr_Unknown',\n",
       "       u'cr_West_Africa', u'cg_Africa', u'cg_Asia', u'cg_Europe',\n",
       "       u'cg_Middle_East', u'cg_North_America', u'cg_South_America',\n",
       "       u'cg_Unknown', u'exploitationRegion', u'exploitationGeoCategory'],\n",
       "      dtype='object')"
      ]
     },
     "execution_count": 5,
     "metadata": {},
     "output_type": "execute_result"
    }
   ],
   "source": [
    "# Read Demographic vs Exploitation Geo Data\n",
    "demo_expgeo_calc = pd.read_csv('assets/demo_expgeo_calc.csv')\n",
    "demo_expgeo_calc2 = demo_expgeo_calc.iloc[:,:25].join(GD_data_final[['exploitationRegion','exploitationGeoCategory']])\n",
    "demo_expgeo_calc2.columns"
   ]
  },
  {
   "cell_type": "code",
   "execution_count": 6,
   "metadata": {},
   "outputs": [
    {
     "data": {
      "text/plain": [
       "18484"
      ]
     },
     "execution_count": 6,
     "metadata": {},
     "output_type": "execute_result"
    }
   ],
   "source": [
    "len(demo_expgeo_calc2['cg_South_America'])"
   ]
  },
  {
   "cell_type": "code",
   "execution_count": 15,
   "metadata": {},
   "outputs": [
    {
     "name": "stdout",
     "output_type": "stream",
     "text": [
      "Logistic regression Train Accuracy ::  0.884603493585\n",
      "Logistic regression Test Accuracy ::  0.875946628201\n",
      "Multinomial Logistic regression Train Accuracy ::  0.884526201886\n",
      "Multinomial Logistic regression Test Accuracy ::  0.873422286332\n",
      "Cross validating...\n",
      "Multi-classification Log Reg - train accuracy: \n",
      "0.879889250394\n",
      "Multinomial Log Reg - train accuracy: \n",
      "0.883908409522\n"
     ]
    }
   ],
   "source": [
    "# Multinomial Logistic Regression\n",
    "def demo_expgeo_main():\n",
    "    ### Including all demo features (Can be modified and observe score changes):\n",
    "    #demo_expgeo_headers = ['yearOfRegistration', 'ageBroad_mid', 'g_Female', 'g_Male', 'ms_Adult', \n",
    "                              #'cr_Central_Asia', 'cr_East_Africa', 'cr_East_Asia', 'cr_Eastern_Europe', 'cr_Middle_East', \n",
    "                              #'cr_North_America', 'cr_Northeast_Africa', 'cr_South_America', 'cr_South_Asia', \n",
    "                              #'cr_Southeast_Asia', 'cr_Southeastern_Europe', 'cr_Unknown', 'cr_West_Africa', \n",
    "                              #'cg_Africa', 'cg_Asia', 'cg_Europe', 'cg_Middle_East', 'cg_North_America', 'cg_South_America', \n",
    "                              #'cg_Unknown', 'exploitationRegion', 'exploitationGeoCategory']\n",
    "    demo_expgeo_headers = ['yearOfRegistration','ageBroad_mid', 'g_Female', 'ms_Adult', \n",
    "                              'cr_Central_Asia', 'cr_East_Africa', 'cr_East_Asia', 'cr_Eastern_Europe', 'cr_Middle_East', \n",
    "                              'cr_North_America', 'cr_Northeast_Africa', 'cr_South_America', 'cr_South_Asia', \n",
    "                              'cr_Southeast_Asia', 'cr_Southeastern_Europe', 'cr_West_Africa', \n",
    "                              'cg_Africa', 'cg_Asia', 'cg_Europe', 'cg_Middle_East', 'cg_North_America', 'cg_South_America','exploitationRegion', 'exploitationGeoCategory']\n",
    "    \n",
    "    ### Train Test Split - Out put col index -1 is Geo Category, -2 is Region\n",
    "    X = demo_expgeo_calc2[demo_expgeo_headers[:-2]]\n",
    "    y = demo_expgeo_calc2[demo_expgeo_headers[-1]]\n",
    "    train_x, test_x, train_y, test_y = train_test_split(X, y, train_size=0.7)\n",
    "    \n",
    "    # USE TWO DIFFERENT APPROACHES TO TRAIN \n",
    "    # Train multi-classification model with logistic regression\n",
    "    lr = LogisticRegression()\n",
    "    lr.fit(train_x, train_y)\n",
    " \n",
    "    # Train multinomial logistic regression model\n",
    "    mul_lr = LogisticRegression(multi_class='multinomial', solver='newton-cg')\n",
    "    mul_lr.fit(train_x, train_y)\n",
    " \n",
    "    print \"Logistic regression Train Accuracy :: \", metrics.accuracy_score(train_y, lr.predict(train_x))\n",
    "    print \"Logistic regression Test Accuracy :: \", metrics.accuracy_score(test_y, lr.predict(test_x))\n",
    " \n",
    "    print \"Multinomial Logistic regression Train Accuracy :: \", metrics.accuracy_score(train_y, mul_lr.predict(train_x))\n",
    "    print \"Multinomial Logistic regression Test Accuracy :: \", metrics.accuracy_score(test_y, mul_lr.predict(test_x))\n",
    "    \n",
    "    print (\"Cross validating...\")\n",
    "    model_demo_expgeo = LogisticRegression(multi_class='multinomial', solver='newton-cg')\n",
    "    ### Only accuracy score works because it's multinomial regression\n",
    "    print (\"Multi-classification Log Reg - train accuracy: \")\n",
    "    print (np.mean(cross_val_score(lr, train_x, train_y.values, scoring='accuracy', cv=10)))\n",
    "    print (\"Multinomial Log Reg - train accuracy: \")\n",
    "    print (np.mean(cross_val_score(mul_lr, train_x, train_y.values, scoring='accuracy', cv=10)))\n",
    "    #print (\"precision: \")\n",
    "    #print (np.mean(cross_val_score(model_demo_expgeo, train_x, train_y.values, scoring='precision', cv=10)))\n",
    "    #print (\"recall: \")\n",
    "    #print (np.mean(cross_val_score(model_demo_expgeo, train_x, train_y.values, scoring='recall', cv=10)))\n",
    "    #print (\"f1: \")\n",
    "    #print (np.mean(cross_val_score(model_demo_expgeo, train_x, train_y.values, scoring='f1', cv=10)))\n",
    "    #print (\"roc_auc: \")\n",
    "    #print (np.mean(cross_val_score(model_demo_expgeo, train_x, train_y.values, scoring='roc_auc', cv=10)))\n",
    "\n",
    "if __name__ == '__main__':\n",
    "  demo_expgeo_main()\n"
   ]
  },
  {
   "cell_type": "markdown",
   "metadata": {},
   "source": [
    "### Findings:\n",
    "Cross Val Score - Accuracy: (Generally between 0.87-0.88)\n",
    "- Include all features = 0.879\n",
    "- All except yearOfRegistration = 0.874\n",
    "- All except yearOfRegistration, g_Male, cr_Unknown, cg_Unknown = 0.878 (remove possibly multicollinearity)"
   ]
  },
  {
   "cell_type": "markdown",
   "metadata": {
    "collapsed": true
   },
   "source": [
    "### Accuracy Scores by Features - Output - exploitationGeoCategory:\n",
    "#### yearOfRegistration\n",
    "Multinomial Logistic regression Train Accuracy ::  0.603802751584\n",
    "Multinomial Logistic regression Test Accuracy ::  0.597728092319\n",
    "\n",
    "#### ageBroad_Mid\n",
    "Multinomial Logistic regression Train Accuracy ::  0.555881898284\n",
    "Multinomial Logistic regression Test Accuracy ::  0.545798773891\n",
    "\n",
    "#### g_Female\n",
    "Multinomial Logistic regression Train Accuracy ::  0.578219199258\n",
    "Multinomial Logistic regression Test Accuracy ::  0.580057699243\n",
    "\n",
    "#### ms_Adult\n",
    "Multinomial Logistic regression Train Accuracy ::  0.513294172206\n",
    "Multinomial Logistic regression Test Accuracy ::  0.513342949874\n",
    "\n",
    "#### citizenship_Region\n",
    "Multinomial Logistic regression Train Accuracy ::  0.849203895502\n",
    "Multinomial Logistic regression Test Accuracy ::  0.845293905517\n",
    "\n",
    "#### citizenship_Geo_Category\n",
    "Multinomial Logistic regression Train Accuracy ::  0.802597001082\n",
    "Multinomial Logistic regression Test Accuracy ::  0.803281644428\n",
    "\n",
    "#### All Demo Features:\n",
    "Multinomial Logistic regression Train Accuracy ::  0.880584325243\n",
    "Multinomial Logistic regression Test Accuracy ::  0.879733141003\n",
    "\n",
    "### Accuracy Scores by Features - Output - exploitationRegion:\n",
    "#### All Demo Features:\n",
    "Multinomial Logistic regression Train Accuracy ::  0.880584325243\n",
    "Multinomial Logistic regression Test Accuracy ::  0.879733141003"
   ]
  },
  {
   "cell_type": "code",
   "execution_count": null,
   "metadata": {
    "collapsed": true
   },
   "outputs": [],
   "source": []
  },
  {
   "cell_type": "code",
   "execution_count": null,
   "metadata": {
    "collapsed": true
   },
   "outputs": [],
   "source": []
  },
  {
   "cell_type": "code",
   "execution_count": null,
   "metadata": {
    "collapsed": true
   },
   "outputs": [],
   "source": []
  },
  {
   "cell_type": "code",
   "execution_count": null,
   "metadata": {
    "collapsed": true
   },
   "outputs": [],
   "source": []
  }
 ],
 "metadata": {
  "kernelspec": {
   "display_name": "Python 2",
   "language": "python",
   "name": "python2"
  },
  "language_info": {
   "codemirror_mode": {
    "name": "ipython",
    "version": 2
   },
   "file_extension": ".py",
   "mimetype": "text/x-python",
   "name": "python",
   "nbconvert_exporter": "python",
   "pygments_lexer": "ipython2",
   "version": "2.7.14"
  }
 },
 "nbformat": 4,
 "nbformat_minor": 2
}
