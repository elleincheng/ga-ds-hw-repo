{
 "cells": [
  {
   "cell_type": "markdown",
   "metadata": {},
   "source": [
    "# Project 1 - Yee Lam (Ellein) Cheng\n",
    "\n",
    "In this first project you will create a framework to scope out data science projects. This framework will provide you with a guide to develop a well-articulated problem statement and analysis plan that will be robust and reproducible."
   ]
  },
  {
   "cell_type": "markdown",
   "metadata": {},
   "source": [
    "### Read and evaluate the following problem statement: \n",
    "Determine which free-tier customers will convert to paying customers, using demographic data collected at signup (age, gender, location, and profession) and customer useage data (days since last log in, and activity score 1 = active user, 0= inactive user) based on Hooli data from Jan-Apr 2015. \n"
   ]
  },
  {
   "cell_type": "markdown",
   "metadata": {},
   "source": [
    "#### 1. What is the outcome?"
   ]
  },
  {
   "cell_type": "markdown",
   "metadata": {},
   "source": [
    "Answer: Which free-tier customers will convert to paying customers."
   ]
  },
  {
   "cell_type": "markdown",
   "metadata": {},
   "source": [
    "#### 2. What are the predictors/covariates? "
   ]
  },
  {
   "cell_type": "markdown",
   "metadata": {},
   "source": [
    "Answer: Age, gender, location, profession, days since last log in, activity score (1=active; 0=inactive)."
   ]
  },
  {
   "cell_type": "markdown",
   "metadata": {},
   "source": [
    "#### 3. What timeframe is this data relevent for?"
   ]
  },
  {
   "cell_type": "markdown",
   "metadata": {},
   "source": [
    "Answer: January to April 2015."
   ]
  },
  {
   "cell_type": "markdown",
   "metadata": {},
   "source": [
    "#### 4. What is the hypothesis?"
   ]
  },
  {
   "cell_type": "markdown",
   "metadata": {},
   "source": [
    "Answer: Users who are more active recently and in the age range or 20-30 have the highest likelihood to convert to paying customer tier."
   ]
  },
  {
   "cell_type": "markdown",
   "metadata": {},
   "source": [
    "## Let's get started with our dataset"
   ]
  },
  {
   "cell_type": "markdown",
   "metadata": {},
   "source": [
    "#### 1. Create a data dictionary "
   ]
  },
  {
   "cell_type": "markdown",
   "metadata": {},
   "source": [
    "Answer: \n",
    "\n",
    "Variable | Description | Type of Variable\n",
    "---| ---| ---\n",
    "admit | 0=not admitted, 1=admitted | categorical\n",
    "gre | GRE score based on the 200-800 scale range | continuous \n",
    "gpa | Grade Point Average based on 0-4.0 scale range | continuous \n",
    "prestige | Prestige of undergrad school: 1=not prestige, 2=low prestige, 3=good prestige, 4=high prestige | categorical\n"
   ]
  },
  {
   "cell_type": "markdown",
   "metadata": {},
   "source": [
    "We would like to explore the association between the prestige of the applicant's undergraduate alma mater and admission rate into grad school."
   ]
  },
  {
   "cell_type": "markdown",
   "metadata": {},
   "source": [
    "#### 2. What is the outcome?"
   ]
  },
  {
   "cell_type": "markdown",
   "metadata": {},
   "source": [
    "Answer: Applicant's admission into grad school."
   ]
  },
  {
   "cell_type": "markdown",
   "metadata": {},
   "source": [
    "#### 3. What are the predictors/covariates? "
   ]
  },
  {
   "cell_type": "markdown",
   "metadata": {},
   "source": [
    "Answer: Applicant's GRE score, GPA, and the prestige of their undergraduate's school."
   ]
  },
  {
   "cell_type": "markdown",
   "metadata": {},
   "source": [
    "#### 4. What timeframe is this data relevent for?"
   ]
  },
  {
   "cell_type": "markdown",
   "metadata": {},
   "source": [
    "Answer: It is unclear what the timeframe is for the dataset.  One thing we know is that the GRE score is based on the 200-800 scale, which was the old scale used prior to August 2011.  Therefore, the data would have to be older than that.  In order to get the exact timeframe, we might need to reach out to the original source of the dataset."
   ]
  },
  {
   "cell_type": "markdown",
   "metadata": {},
   "source": [
    "#### 4. What is the hypothesis?"
   ]
  },
  {
   "cell_type": "markdown",
   "metadata": {},
   "source": [
    "Answer: The more prestigious the applicant's alma mater, the higher the likelihood of admission into grad school."
   ]
  },
  {
   "cell_type": "markdown",
   "metadata": {},
   "source": [
    "    Using the above information, write a well-formed problem statement. \n"
   ]
  },
  {
   "cell_type": "markdown",
   "metadata": {},
   "source": [
    "## Problem Statement"
   ]
  },
  {
   "cell_type": "markdown",
   "metadata": {},
   "source": [
    "Determine if there is an association between grad school admission likelihood and the prestige of applicant's undergraduate alma mater based on data from UCLA admissions some time before August 2011.  "
   ]
  },
  {
   "cell_type": "markdown",
   "metadata": {},
   "source": [
    "### Exploratory Analysis Plan"
   ]
  },
  {
   "cell_type": "markdown",
   "metadata": {},
   "source": [
    "Using the lab from a class as a guide, create an exploratory analysis plan. "
   ]
  },
  {
   "cell_type": "markdown",
   "metadata": {},
   "source": [
    "#### 1. What are the goals of the exploratory analysis? "
   ]
  },
  {
   "cell_type": "markdown",
   "metadata": {
    "collapsed": true
   },
   "source": [
    "Answer: Exploratory analysis on a data set allows the user to maximize insights into the data. It helps uncovering the underlying data structure and detect any outliers, anomalies, and data gaps.  It also prompts the user to perform any transformations of variables as necessary."
   ]
  },
  {
   "cell_type": "markdown",
   "metadata": {},
   "source": [
    "#### 2a. What are the assumptions of the distribution of data? "
   ]
  },
  {
   "cell_type": "markdown",
   "metadata": {},
   "source": [
    "Answer: The data is assumed to be normally distributed."
   ]
  },
  {
   "cell_type": "markdown",
   "metadata": {},
   "source": [
    "#### 2b. How will determine the distribution of your data? "
   ]
  },
  {
   "cell_type": "markdown",
   "metadata": {
    "collapsed": true
   },
   "source": [
    "Answer: Plotting a histogram will help determine the distribution of the data. "
   ]
  },
  {
   "cell_type": "markdown",
   "metadata": {},
   "source": [
    "#### 3a. How might outliers impact your analysis? "
   ]
  },
  {
   "cell_type": "markdown",
   "metadata": {
    "collapsed": true
   },
   "source": [
    "Answer: They could skew certain statistical calculations as we explore the associations between variables.  The most basica example is that the mean will definitely be skewed.  Another example is that depending on how big the data set is and how many outliers are there in one direction, they could skew analysis based on confidence levels."
   ]
  },
  {
   "cell_type": "markdown",
   "metadata": {},
   "source": [
    "#### 3b. How will you test for outliers? "
   ]
  },
  {
   "cell_type": "markdown",
   "metadata": {},
   "source": [
    "Answer:  Whether a data point is an outlier often depends on what is the underlying assumption of the distribution.  Boxplots, histograms, and scatterplots are some quick ways to identify potential outliers."
   ]
  },
  {
   "cell_type": "markdown",
   "metadata": {},
   "source": [
    "#### 4a. What is colinearity? "
   ]
  },
  {
   "cell_type": "markdown",
   "metadata": {
    "collapsed": true
   },
   "source": [
    "Answer: Collinearity describes how well one variable predicts the other one.  In the case where two variables are strongly collinear, their variance will be the similar and one variable could lead to a more accurate prediction of the other."
   ]
  },
  {
   "cell_type": "markdown",
   "metadata": {},
   "source": [
    "#### 4b. How will you test for colinearity? "
   ]
  },
  {
   "cell_type": "markdown",
   "metadata": {},
   "source": [
    "Answer: One way to test the collinearity between variables is to look at their correlation coefficients.  Typically, a non-zero correlation coefficient would imply some level of collinearity."
   ]
  },
  {
   "cell_type": "markdown",
   "metadata": {},
   "source": [
    "#### 5. What is your exploratory analysis plan?\n",
    "Using the above information, write an exploratory analysis plan that would allow you or a colleague to reproduce your analysis 1 year from now. "
   ]
  },
  {
   "cell_type": "markdown",
   "metadata": {},
   "source": [
    "Answer: \n",
    "1) Check for any data gaps that might exist and remove erroneous data point.\n",
    "2) Calculate basic metrics of various columns of the data fields (e.g. mean, media, quartiles, max, min)\n",
    "3) Explore the distribution of data to see if normal distribution is a reasonable assumption\n",
    "4) Identify any outliers by using histogram/box-plot/scatterplot\n",
    "5) Determine if variables reflect some level of collinearity by exploring variances\n"
   ]
  },
  {
   "cell_type": "markdown",
   "metadata": {},
   "source": [
    "## Bonus Questions:\n",
    "1. Outline your analysis method for predicting your outcome\n",
    "I would do some exploratory analysis to understand the basic structures of the data and perform any data scrubbing that might be needed.  Once the data is ready and clean, I would run some kind of regression analysis and observe how the variables correlate with each other.  It might be worth it to try a few different kinds of regression models and see which one fits best (e.g. compare and contrast the correlation coefficients).  Once I decide on a model, I could use that to extrapolate and predict outcomes for hypothetical data points.\n",
    "\n",
    "2. Write an alternative problem statement for your dataset\n",
    "Determine if there is an association between grad school admission likelihood and applicant's undergraduate GPA based on data from UCLA admissions some time before August 2011.\n",
    "\n",
    "3. Articulate the assumptions and risks of the alternative model\n",
    "Risks: Different undergraduate schools/programs might have different standards.  So a 3.5 in one school might mean something totally different from a 3.5 in another school.  So maybe a more sensible way to model this is to loop in the prestige of the school as well and run a multivariate model.  Also, this data seems to be rather old (before August 2011), what happened then might not necessarily be applicable/relevant now.  \n",
    "Assumptions: Assume relatively uniform standards across schools in terms of GPA scoring.  Since we don't have the concrete timeline for the data, we are assuming that it is relevant to current admission procedures.\n"
   ]
  },
  {
   "cell_type": "code",
   "execution_count": null,
   "metadata": {
    "collapsed": true
   },
   "outputs": [],
   "source": []
  }
 ],
 "metadata": {
  "kernelspec": {
   "display_name": "Python 3",
   "language": "python",
   "name": "python3"
  },
  "language_info": {
   "codemirror_mode": {
    "name": "ipython",
    "version": 3
   },
   "file_extension": ".py",
   "mimetype": "text/x-python",
   "name": "python",
   "nbconvert_exporter": "python",
   "pygments_lexer": "ipython3",
   "version": "3.6.3"
  }
 },
 "nbformat": 4,
 "nbformat_minor": 1
}
