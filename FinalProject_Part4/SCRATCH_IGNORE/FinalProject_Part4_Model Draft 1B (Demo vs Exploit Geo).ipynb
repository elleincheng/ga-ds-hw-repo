{
 "cells": [
  {
   "cell_type": "markdown",
   "metadata": {},
   "source": [
    "# Final Project - Part 4 - Model Draft 1B (Demo vs Exploit Geo)"
   ]
  },
  {
   "cell_type": "markdown",
   "metadata": {},
   "source": [
    "## 1B) Random Forest Classifier (Input: Demographics; Output: Exploitation Geo Category)\n"
   ]
  },
  {
   "cell_type": "code",
   "execution_count": 1,
   "metadata": {},
   "outputs": [
    {
     "name": "stderr",
     "output_type": "stream",
     "text": [
      "C:\\Users\\ellei\\Anaconda2\\lib\\site-packages\\sklearn\\cross_validation.py:41: DeprecationWarning: This module was deprecated in version 0.18 in favor of the model_selection module into which all the refactored classes and functions are moved. Also note that the interface of the new CV iterators are different from that of this module. This module will be removed in 0.20.\n",
      "  \"This module will be removed in 0.20.\", DeprecationWarning)\n"
     ]
    }
   ],
   "source": [
    "import pandas as pd\n",
    "import numpy as np\n",
    "from sklearn.linear_model import LogisticRegression, RidgeClassifierCV\n",
    "from sklearn.ensemble import RandomForestClassifier, GradientBoostingClassifier, ExtraTreesClassifier, VotingClassifier, AdaBoostClassifier\n",
    "from sklearn.tree import DecisionTreeClassifier\n",
    "from sklearn.naive_bayes import GaussianNB\n",
    "from sklearn.cross_validation import cross_val_score,train_test_split\n",
    "from sklearn.preprocessing import Imputer\n",
    "from sklearn import preprocessing\n",
    "from sklearn.base import BaseEstimator\n",
    "from sklearn import metrics\n",
    "from sklearn.model_selection import StratifiedKFold\n",
    "import random\n",
    "import matplotlib.pyplot as plt\n",
    "import pdb"
   ]
  },
  {
   "cell_type": "code",
   "execution_count": 2,
   "metadata": {},
   "outputs": [
    {
     "data": {
      "text/html": [
       "<div>\n",
       "<style>\n",
       "    .dataframe thead tr:only-child th {\n",
       "        text-align: right;\n",
       "    }\n",
       "\n",
       "    .dataframe thead th {\n",
       "        text-align: left;\n",
       "    }\n",
       "\n",
       "    .dataframe tbody tr th {\n",
       "        vertical-align: top;\n",
       "    }\n",
       "</style>\n",
       "<table border=\"1\" class=\"dataframe\">\n",
       "  <thead>\n",
       "    <tr style=\"text-align: right;\">\n",
       "      <th></th>\n",
       "      <th>yearOfRegistration</th>\n",
       "      <th>gender</th>\n",
       "      <th>majorityStatus</th>\n",
       "      <th>ageBroad_mid</th>\n",
       "      <th>citizenshipRegion</th>\n",
       "      <th>citizenshipGeoCategory</th>\n",
       "      <th>exploitationRegion</th>\n",
       "      <th>exploitationGeoCategory</th>\n",
       "      <th>mocDebtBondage</th>\n",
       "      <th>mocTakesEarnings</th>\n",
       "      <th>...</th>\n",
       "      <th>tosProstitution</th>\n",
       "      <th>tosPornography</th>\n",
       "      <th>tosRemoteInteractiveServices</th>\n",
       "      <th>tosPrivateSexualServices</th>\n",
       "      <th>tosNotSpecified</th>\n",
       "      <th>rrIntimatePartner</th>\n",
       "      <th>rrFriend</th>\n",
       "      <th>rrFamily</th>\n",
       "      <th>rrOther</th>\n",
       "      <th>rrUnknown</th>\n",
       "    </tr>\n",
       "  </thead>\n",
       "  <tbody>\n",
       "    <tr>\n",
       "      <th>0</th>\n",
       "      <td>2010</td>\n",
       "      <td>Female</td>\n",
       "      <td>Adult</td>\n",
       "      <td>19.0</td>\n",
       "      <td>Central_Asia</td>\n",
       "      <td>Asia</td>\n",
       "      <td>Central_Asia</td>\n",
       "      <td>Asia</td>\n",
       "      <td>0</td>\n",
       "      <td>0</td>\n",
       "      <td>...</td>\n",
       "      <td>0</td>\n",
       "      <td>0</td>\n",
       "      <td>0</td>\n",
       "      <td>0</td>\n",
       "      <td>1</td>\n",
       "      <td>0</td>\n",
       "      <td>0</td>\n",
       "      <td>0</td>\n",
       "      <td>0</td>\n",
       "      <td>1</td>\n",
       "    </tr>\n",
       "    <tr>\n",
       "      <th>1</th>\n",
       "      <td>2004</td>\n",
       "      <td>Female</td>\n",
       "      <td>Adult</td>\n",
       "      <td>19.0</td>\n",
       "      <td>Eastern_Europe</td>\n",
       "      <td>Europe</td>\n",
       "      <td>Eastern_Europe</td>\n",
       "      <td>Europe</td>\n",
       "      <td>0</td>\n",
       "      <td>0</td>\n",
       "      <td>...</td>\n",
       "      <td>0</td>\n",
       "      <td>0</td>\n",
       "      <td>0</td>\n",
       "      <td>0</td>\n",
       "      <td>1</td>\n",
       "      <td>0</td>\n",
       "      <td>0</td>\n",
       "      <td>0</td>\n",
       "      <td>0</td>\n",
       "      <td>1</td>\n",
       "    </tr>\n",
       "    <tr>\n",
       "      <th>2</th>\n",
       "      <td>2010</td>\n",
       "      <td>Female</td>\n",
       "      <td>Adult</td>\n",
       "      <td>19.0</td>\n",
       "      <td>Central_Asia</td>\n",
       "      <td>Asia</td>\n",
       "      <td>Central_Asia</td>\n",
       "      <td>Asia</td>\n",
       "      <td>1</td>\n",
       "      <td>0</td>\n",
       "      <td>...</td>\n",
       "      <td>0</td>\n",
       "      <td>0</td>\n",
       "      <td>0</td>\n",
       "      <td>0</td>\n",
       "      <td>1</td>\n",
       "      <td>0</td>\n",
       "      <td>0</td>\n",
       "      <td>0</td>\n",
       "      <td>0</td>\n",
       "      <td>1</td>\n",
       "    </tr>\n",
       "    <tr>\n",
       "      <th>3</th>\n",
       "      <td>2010</td>\n",
       "      <td>Female</td>\n",
       "      <td>Adult</td>\n",
       "      <td>19.0</td>\n",
       "      <td>Central_Asia</td>\n",
       "      <td>Asia</td>\n",
       "      <td>Central_Asia</td>\n",
       "      <td>Asia</td>\n",
       "      <td>1</td>\n",
       "      <td>0</td>\n",
       "      <td>...</td>\n",
       "      <td>0</td>\n",
       "      <td>0</td>\n",
       "      <td>0</td>\n",
       "      <td>0</td>\n",
       "      <td>1</td>\n",
       "      <td>0</td>\n",
       "      <td>0</td>\n",
       "      <td>0</td>\n",
       "      <td>0</td>\n",
       "      <td>1</td>\n",
       "    </tr>\n",
       "    <tr>\n",
       "      <th>4</th>\n",
       "      <td>2012</td>\n",
       "      <td>Female</td>\n",
       "      <td>Minor</td>\n",
       "      <td>13.0</td>\n",
       "      <td>North_America</td>\n",
       "      <td>North_America</td>\n",
       "      <td>North_America</td>\n",
       "      <td>North_America</td>\n",
       "      <td>0</td>\n",
       "      <td>0</td>\n",
       "      <td>...</td>\n",
       "      <td>0</td>\n",
       "      <td>0</td>\n",
       "      <td>0</td>\n",
       "      <td>0</td>\n",
       "      <td>0</td>\n",
       "      <td>0</td>\n",
       "      <td>0</td>\n",
       "      <td>1</td>\n",
       "      <td>0</td>\n",
       "      <td>0</td>\n",
       "    </tr>\n",
       "  </tbody>\n",
       "</table>\n",
       "<p>5 rows × 56 columns</p>\n",
       "</div>"
      ],
      "text/plain": [
       "   yearOfRegistration  gender majorityStatus  ageBroad_mid citizenshipRegion  \\\n",
       "0                2010  Female          Adult          19.0      Central_Asia   \n",
       "1                2004  Female          Adult          19.0    Eastern_Europe   \n",
       "2                2010  Female          Adult          19.0      Central_Asia   \n",
       "3                2010  Female          Adult          19.0      Central_Asia   \n",
       "4                2012  Female          Minor          13.0     North_America   \n",
       "\n",
       "  citizenshipGeoCategory exploitationRegion exploitationGeoCategory  \\\n",
       "0                   Asia       Central_Asia                    Asia   \n",
       "1                 Europe     Eastern_Europe                  Europe   \n",
       "2                   Asia       Central_Asia                    Asia   \n",
       "3                   Asia       Central_Asia                    Asia   \n",
       "4          North_America      North_America           North_America   \n",
       "\n",
       "   mocDebtBondage  mocTakesEarnings    ...      tosProstitution  \\\n",
       "0               0                 0    ...                    0   \n",
       "1               0                 0    ...                    0   \n",
       "2               1                 0    ...                    0   \n",
       "3               1                 0    ...                    0   \n",
       "4               0                 0    ...                    0   \n",
       "\n",
       "   tosPornography  tosRemoteInteractiveServices  tosPrivateSexualServices  \\\n",
       "0               0                             0                         0   \n",
       "1               0                             0                         0   \n",
       "2               0                             0                         0   \n",
       "3               0                             0                         0   \n",
       "4               0                             0                         0   \n",
       "\n",
       "   tosNotSpecified  rrIntimatePartner  rrFriend  rrFamily  rrOther  rrUnknown  \n",
       "0                1                  0         0         0        0          1  \n",
       "1                1                  0         0         0        0          1  \n",
       "2                1                  0         0         0        0          1  \n",
       "3                1                  0         0         0        0          1  \n",
       "4                0                  0         0         1        0          0  \n",
       "\n",
       "[5 rows x 56 columns]"
      ]
     },
     "execution_count": 2,
     "metadata": {},
     "output_type": "execute_result"
    }
   ],
   "source": [
    "#Read Cleaned Global Data\n",
    "GD_data_final = pd.read_csv('assets/GD_data_final.csv')\n",
    "GD_data_final.head()"
   ]
  },
  {
   "cell_type": "code",
   "execution_count": 3,
   "metadata": {},
   "outputs": [
    {
     "data": {
      "text/plain": [
       "Index([u'yearOfRegistration', u'ageBroad_mid', u'g_Female', u'g_Male',\n",
       "       u'ms_Adult', u'cr_Central_Asia', u'cr_East_Africa', u'cr_East_Asia',\n",
       "       u'cr_Eastern_Europe', u'cr_Middle_East', u'cr_North_America',\n",
       "       u'cr_Northeast_Africa', u'cr_South_America', u'cr_South_Asia',\n",
       "       u'cr_Southeast_Asia', u'cr_Southeastern_Europe', u'cr_Unknown',\n",
       "       u'cr_West_Africa', u'cg_Africa', u'cg_Asia', u'cg_Europe',\n",
       "       u'cg_Middle_East', u'cg_North_America', u'cg_South_America',\n",
       "       u'cg_Unknown', u'exploitationRegion', u'exploitationGeoCategory'],\n",
       "      dtype='object')"
      ]
     },
     "execution_count": 3,
     "metadata": {},
     "output_type": "execute_result"
    }
   ],
   "source": [
    "# Read Demographic vs Exploitation Geo Data\n",
    "demo_expgeo_calc = pd.read_csv('assets/demo_expgeo_calc.csv')\n",
    "demo_expgeo_calc2 = demo_expgeo_calc.iloc[:,:25].join(GD_data_final[['exploitationRegion','exploitationGeoCategory']])\n",
    "demo_expgeo_calc2.columns"
   ]
  },
  {
   "cell_type": "code",
   "execution_count": 4,
   "metadata": {},
   "outputs": [
    {
     "data": {
      "text/plain": [
       "18484"
      ]
     },
     "execution_count": 4,
     "metadata": {},
     "output_type": "execute_result"
    }
   ],
   "source": [
    "len(demo_expgeo_calc2['cg_South_America'])"
   ]
  },
  {
   "cell_type": "code",
   "execution_count": 5,
   "metadata": {},
   "outputs": [
    {
     "name": "stdout",
     "output_type": "stream",
     "text": [
      "Random Forest Train Accuracy ::  0.888313495131\n",
      "Random Forest Logistic regression Test Accuracy ::  0.880274071403\n",
      "Cross validating...\n",
      "Random Forest - train accuracy: \n",
      "0.887461421451\n",
      "X: \n",
      "Index([u'ageBroad_mid', u'g_Female', u'ms_Adult', u'cr_Central_Asia',\n",
      "       u'cr_East_Africa', u'cr_East_Asia', u'cr_Eastern_Europe',\n",
      "       u'cr_Middle_East', u'cr_North_America', u'cr_Northeast_Africa',\n",
      "       u'cr_South_America', u'cr_South_Asia', u'cr_Southeast_Asia',\n",
      "       u'cr_Southeastern_Europe', u'cr_West_Africa'],\n",
      "      dtype='object')\n",
      "Feature Importance: \n",
      "[ 0.116  0.141  0.024  0.021  0.009  0.     0.252  0.012  0.041  0.002\n",
      "  0.008  0.015  0.204  0.077  0.077]\n"
     ]
    },
    {
     "ename": "NameError",
     "evalue": "global name 'headers' is not defined",
     "output_type": "error",
     "traceback": [
      "\u001b[1;31m---------------------------------------------------------------------------\u001b[0m",
      "\u001b[1;31mNameError\u001b[0m                                 Traceback (most recent call last)",
      "\u001b[1;32m<ipython-input-5-1b1ed36686a1>\u001b[0m in \u001b[0;36m<module>\u001b[1;34m()\u001b[0m\n\u001b[0;32m     84\u001b[0m \u001b[1;33m\u001b[0m\u001b[0m\n\u001b[0;32m     85\u001b[0m \u001b[1;32mif\u001b[0m \u001b[0m__name__\u001b[0m \u001b[1;33m==\u001b[0m \u001b[1;34m'__main__'\u001b[0m\u001b[1;33m:\u001b[0m\u001b[1;33m\u001b[0m\u001b[0m\n\u001b[1;32m---> 86\u001b[1;33m   \u001b[0mdemo_expgeo_main\u001b[0m\u001b[1;33m(\u001b[0m\u001b[1;33m)\u001b[0m\u001b[1;33m\u001b[0m\u001b[0m\n\u001b[0m",
      "\u001b[1;32m<ipython-input-5-1b1ed36686a1>\u001b[0m in \u001b[0;36mdemo_expgeo_main\u001b[1;34m()\u001b[0m\n\u001b[0;32m     40\u001b[0m     plt.barh(range(X.shape[1]), importances[indices],\n\u001b[0;32m     41\u001b[0m        color=\"g\", yerr=std[indices], align=\"center\")\n\u001b[1;32m---> 42\u001b[1;33m     \u001b[0mplt\u001b[0m\u001b[1;33m.\u001b[0m\u001b[0myticks\u001b[0m\u001b[1;33m(\u001b[0m\u001b[0mrange\u001b[0m\u001b[1;33m(\u001b[0m\u001b[0mX\u001b[0m\u001b[1;33m.\u001b[0m\u001b[0mshape\u001b[0m\u001b[1;33m[\u001b[0m\u001b[1;36m1\u001b[0m\u001b[1;33m]\u001b[0m\u001b[1;33m)\u001b[0m\u001b[1;33m,\u001b[0m\u001b[0mheaders\u001b[0m\u001b[1;33m[\u001b[0m\u001b[1;33m:\u001b[0m\u001b[1;33m-\u001b[0m\u001b[1;36m1\u001b[0m\u001b[1;33m]\u001b[0m\u001b[1;33m)\u001b[0m\u001b[1;33m\u001b[0m\u001b[0m\n\u001b[0m\u001b[0;32m     43\u001b[0m     \u001b[0mplt\u001b[0m\u001b[1;33m.\u001b[0m\u001b[0mxlabel\u001b[0m\u001b[1;33m(\u001b[0m\u001b[1;34m'Relative Importance'\u001b[0m\u001b[1;33m)\u001b[0m\u001b[1;33m\u001b[0m\u001b[0m\n\u001b[0;32m     44\u001b[0m     \u001b[0mplt\u001b[0m\u001b[1;33m.\u001b[0m\u001b[0mshow\u001b[0m\u001b[1;33m(\u001b[0m\u001b[1;33m)\u001b[0m\u001b[1;33m\u001b[0m\u001b[0m\n",
      "\u001b[1;31mNameError\u001b[0m: global name 'headers' is not defined"
     ]
    }
   ],
   "source": [
    "# Multinomial Logistic Regression\n",
    "def demo_expgeo_main():\n",
    "    demo_expgeo_headers = ['ageBroad_mid', 'g_Female', 'ms_Adult', \n",
    "                              'cr_Central_Asia', 'cr_East_Africa', 'cr_East_Asia', 'cr_Eastern_Europe', 'cr_Middle_East', \n",
    "                              'cr_North_America', 'cr_Northeast_Africa', 'cr_South_America', 'cr_South_Asia', \n",
    "                              'cr_Southeast_Asia', 'cr_Southeastern_Europe', 'cr_West_Africa', \n",
    "                             'exploitationRegion']\n",
    "    \n",
    "    ### Train Test Split - Out put col index -1 is Geo Category, -2 is Region\n",
    "    X = demo_expgeo_calc2[demo_expgeo_headers[:-1]]\n",
    "    y = demo_expgeo_calc2[demo_expgeo_headers[-1]]\n",
    "    train_x, test_x, train_y, test_y = train_test_split(X, y, train_size=0.7)\n",
    "    \n",
    "    # USE TWO DIFFERENT APPROACHES TO TRAIN \n",
    "    # Train multi-classification model with logistic regression\n",
    "    model = RandomForestClassifier(n_estimators=500)\n",
    "    model.fit(train_x, train_y)\n",
    " \n",
    "    print \"Random Forest Train Accuracy :: \", metrics.accuracy_score(train_y, model.predict(train_x))\n",
    "    print \"Random Forest Logistic regression Test Accuracy :: \", metrics.accuracy_score(test_y, model.predict(test_x))\n",
    "    \n",
    "    print (\"Cross validating...\")\n",
    "    print (\"Random Forest - train accuracy: \")\n",
    "    print (np.mean(cross_val_score(model, train_x, train_y.values, scoring='accuracy', cv=10)))\n",
    "\n",
    "    print (\"X: \")\n",
    "    print (X.columns)\n",
    "    \n",
    "    #Feature Importances - Break down weights of each feature\n",
    "    print (\"Feature Importance: \")\n",
    "    importances = model.feature_importances_.round(3)\n",
    "    print (importances)\n",
    "    \n",
    "    ## Graphing Feature Importances\n",
    "    std = np.std([importances],axis=0)\n",
    "    indices = np.argsort(importances)[::-1]   \n",
    "    # Plot the feature importances of the forest\n",
    "    plt.figure()\n",
    "    plt.title(\"Feature importances - Predicting Exploitation Geo-location: \")\n",
    "    plt.barh(range(X.shape[1]), importances[indices],\n",
    "       color=\"g\", yerr=std[indices], align=\"center\")\n",
    "    plt.yticks(range(X.shape[1]),headers[:-1])\n",
    "    plt.xlabel('Relative Importance')\n",
    "    plt.show()\n",
    "    \n",
    "    print (\"Classes: \")\n",
    "    print (model.classes_)\n",
    "    \n",
    "    # Predict Probabilities\n",
    "    #pp = model.predict_proba(X)    \n",
    "    cols = ['pp_Central_Asia', 'pp_Central_Europe', 'pp_East_Africa', 'pp_East_Asia', 'pp_Eastern_Europe',\n",
    "             'pp_Eurasia', 'pp_Mediterranean', 'pp_Middle_East', 'pp_North_America',\n",
    "             'pp_Northwestern_Europe', 'pp_South_Africa', 'pp_South_America', 'pp_Southeast_Asia',\n",
    "             'pp_Southeastern_Europe', 'pp_Unknown', 'pp_West_Africa']    \n",
    "    df_pp = pd.DataFrame(model.predict_proba(X),columns=cols)\n",
    "    df_data_pp = GD_data_final.join(df_pp)\n",
    "    #df_pp.head()\n",
    "    \n",
    "    # GROUP BYs different demographics\n",
    "    print (\"Average Probabilities by gender: \")\n",
    "    print (df_data_pp[['gender','pp_Central_Asia', 'pp_Central_Europe', 'pp_East_Africa', 'pp_East_Asia', 'pp_Eastern_Europe',\n",
    "             'pp_Eurasia', 'pp_Mediterranean', 'pp_Middle_East', 'pp_North_America',\n",
    "             'pp_Northwestern_Europe', 'pp_South_Africa', 'pp_South_America', 'pp_Southeast_Asia',\n",
    "             'pp_Southeastern_Europe', 'pp_Unknown', 'pp_West_Africa']].groupby('gender').mean())\n",
    "    \n",
    "    print (\"Average Probabilites by majorityStatus: \")\n",
    "    print (df_data_pp[['majorityStatus','pp_Central_Asia', 'pp_Central_Europe', 'pp_East_Africa', 'pp_East_Asia', 'pp_Eastern_Europe',\n",
    "             'pp_Eurasia', 'pp_Mediterranean', 'pp_Middle_East', 'pp_North_America',\n",
    "             'pp_Northwestern_Europe', 'pp_South_Africa', 'pp_South_America', 'pp_Southeast_Asia',\n",
    "             'pp_Southeastern_Europe', 'pp_Unknown', 'pp_West_Africa']].groupby('majorityStatus').mean())\n",
    "\n",
    "    print (\"Average Probabilites by ageBroad_mid: \")\n",
    "    print (df_data_pp[['ageBroad_mid','pp_Central_Asia', 'pp_Central_Europe', 'pp_East_Africa', 'pp_East_Asia', 'pp_Eastern_Europe',\n",
    "             'pp_Eurasia', 'pp_Mediterranean', 'pp_Middle_East', 'pp_North_America',\n",
    "             'pp_Northwestern_Europe', 'pp_South_Africa', 'pp_South_America', 'pp_Southeast_Asia',\n",
    "             'pp_Southeastern_Europe', 'pp_Unknown', 'pp_West_Africa']].groupby('ageBroad_mid').mean())\n",
    "    \n",
    "    print (\"Average Probabilites by citizenshipRegion: \")\n",
    "    print (df_data_pp[['citizenshipRegion','pp_Central_Asia', 'pp_Central_Europe', 'pp_East_Africa', 'pp_East_Asia', 'pp_Eastern_Europe',\n",
    "             'pp_Eurasia', 'pp_Mediterranean', 'pp_Middle_East', 'pp_North_America',\n",
    "             'pp_Northwestern_Europe', 'pp_South_Africa', 'pp_South_America', 'pp_Southeast_Asia',\n",
    "             'pp_Southeastern_Europe', 'pp_Unknown', 'pp_West_Africa']].groupby('citizenshipRegion').mean())\n",
    "    \n",
    "    \n",
    "if __name__ == '__main__':\n",
    "  demo_expgeo_main()\n"
   ]
  },
  {
   "cell_type": "code",
   "execution_count": null,
   "metadata": {
    "collapsed": true
   },
   "outputs": [],
   "source": []
  },
  {
   "cell_type": "code",
   "execution_count": null,
   "metadata": {
    "collapsed": true
   },
   "outputs": [],
   "source": []
  },
  {
   "cell_type": "markdown",
   "metadata": {
    "collapsed": true
   },
   "source": [
    "Accuracy Scores by Features - Output - exploitationGeoCategory:\n",
    "All Demo Features:\n",
    "Random Forest Train Accuracy :: 0.886767661153 Random Forest Test Accuracy :: 0.886404615939 Random Forest - train cross val score - accuracy: 0.888879046183\n",
    "\n",
    "X:\n",
    "\n",
    "['ageBroad_mid', 'g_Female', 'ms_Adult', 'cr_Central_Asia', 'cr_East_Africa',\n",
    "\n",
    "'cr_East_Asia', 'cr_Eastern_Europe', 'cr_Middle_East', 'cr_North_America', 'cr_Northeast_Africa',\n",
    "\n",
    "'cr_South_America', 'cr_South_Asia', 'cr_Southeast_Asia', 'cr_Southeastern_Europe', 'cr_West_Africa']\n",
    "\n",
    "Feature Importance:\n",
    "\n",
    "[ 0.116 0.142 0.024 0.02 0.009\n",
    "\n",
    "0.0 0.249 0.012 0.045 0.002\n",
    "\n",
    "0.008 0.018 0.2 0.079 0.074]"
   ]
  },
  {
   "cell_type": "code",
   "execution_count": null,
   "metadata": {
    "collapsed": true
   },
   "outputs": [],
   "source": []
  },
  {
   "cell_type": "code",
   "execution_count": null,
   "metadata": {
    "collapsed": true
   },
   "outputs": [],
   "source": []
  },
  {
   "cell_type": "code",
   "execution_count": null,
   "metadata": {
    "collapsed": true
   },
   "outputs": [],
   "source": []
  },
  {
   "cell_type": "code",
   "execution_count": null,
   "metadata": {
    "collapsed": true
   },
   "outputs": [],
   "source": []
  }
 ],
 "metadata": {
  "kernelspec": {
   "display_name": "Python 2",
   "language": "python",
   "name": "python2"
  },
  "language_info": {
   "codemirror_mode": {
    "name": "ipython",
    "version": 2
   },
   "file_extension": ".py",
   "mimetype": "text/x-python",
   "name": "python",
   "nbconvert_exporter": "python",
   "pygments_lexer": "ipython2",
   "version": "2.7.14"
  }
 },
 "nbformat": 4,
 "nbformat_minor": 2
}
